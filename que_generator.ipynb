{
  "nbformat": 4,
  "nbformat_minor": 0,
  "metadata": {
    "colab": {
      "provenance": [],
      "authorship_tag": "ABX9TyNvbA9IzRUENt3PzrEHyOFH",
      "include_colab_link": true
    },
    "kernelspec": {
      "name": "python3",
      "display_name": "Python 3"
    },
    "language_info": {
      "name": "python"
    }
  },
  "cells": [
    {
      "cell_type": "markdown",
      "metadata": {
        "id": "view-in-github",
        "colab_type": "text"
      },
      "source": [
        "<a href=\"https://colab.research.google.com/github/Raaj-4320/the-exam-paper-generator/blob/main/que_generator.ipynb\" target=\"_parent\"><img src=\"https://colab.research.google.com/assets/colab-badge.svg\" alt=\"Open In Colab\"/></a>"
      ]
    },
    {
      "cell_type": "code",
      "source": [
        "!pip install openai"
      ],
      "metadata": {
        "colab": {
          "base_uri": "https://localhost:8080/"
        },
        "id": "A9SBZTL9-MaY",
        "outputId": "523bcc8b-1f8d-4ac5-8adb-3c5421b38523"
      },
      "execution_count": 30,
      "outputs": [
        {
          "output_type": "stream",
          "name": "stdout",
          "text": [
            "Collecting openai\n",
            "  Downloading openai-1.37.1-py3-none-any.whl.metadata (22 kB)\n",
            "Requirement already satisfied: anyio<5,>=3.5.0 in /usr/local/lib/python3.10/dist-packages (from openai) (3.7.1)\n",
            "Requirement already satisfied: distro<2,>=1.7.0 in /usr/lib/python3/dist-packages (from openai) (1.7.0)\n",
            "Collecting httpx<1,>=0.23.0 (from openai)\n",
            "  Downloading httpx-0.27.0-py3-none-any.whl.metadata (7.2 kB)\n",
            "Requirement already satisfied: pydantic<3,>=1.9.0 in /usr/local/lib/python3.10/dist-packages (from openai) (2.8.2)\n",
            "Requirement already satisfied: sniffio in /usr/local/lib/python3.10/dist-packages (from openai) (1.3.1)\n",
            "Requirement already satisfied: tqdm>4 in /usr/local/lib/python3.10/dist-packages (from openai) (4.66.4)\n",
            "Requirement already satisfied: typing-extensions<5,>=4.7 in /usr/local/lib/python3.10/dist-packages (from openai) (4.12.2)\n",
            "Requirement already satisfied: idna>=2.8 in /usr/local/lib/python3.10/dist-packages (from anyio<5,>=3.5.0->openai) (3.7)\n",
            "Requirement already satisfied: exceptiongroup in /usr/local/lib/python3.10/dist-packages (from anyio<5,>=3.5.0->openai) (1.2.2)\n",
            "Requirement already satisfied: certifi in /usr/local/lib/python3.10/dist-packages (from httpx<1,>=0.23.0->openai) (2024.7.4)\n",
            "Collecting httpcore==1.* (from httpx<1,>=0.23.0->openai)\n",
            "  Downloading httpcore-1.0.5-py3-none-any.whl.metadata (20 kB)\n",
            "Collecting h11<0.15,>=0.13 (from httpcore==1.*->httpx<1,>=0.23.0->openai)\n",
            "  Downloading h11-0.14.0-py3-none-any.whl.metadata (8.2 kB)\n",
            "Requirement already satisfied: annotated-types>=0.4.0 in /usr/local/lib/python3.10/dist-packages (from pydantic<3,>=1.9.0->openai) (0.7.0)\n",
            "Requirement already satisfied: pydantic-core==2.20.1 in /usr/local/lib/python3.10/dist-packages (from pydantic<3,>=1.9.0->openai) (2.20.1)\n",
            "Downloading openai-1.37.1-py3-none-any.whl (337 kB)\n",
            "\u001b[2K   \u001b[90m━━━━━━━━━━━━━━━━━━━━━━━━━━━━━━━━━━━━━━━━\u001b[0m \u001b[32m337.0/337.0 kB\u001b[0m \u001b[31m5.7 MB/s\u001b[0m eta \u001b[36m0:00:00\u001b[0m\n",
            "\u001b[?25hDownloading httpx-0.27.0-py3-none-any.whl (75 kB)\n",
            "\u001b[2K   \u001b[90m━━━━━━━━━━━━━━━━━━━━━━━━━━━━━━━━━━━━━━━━\u001b[0m \u001b[32m75.6/75.6 kB\u001b[0m \u001b[31m6.4 MB/s\u001b[0m eta \u001b[36m0:00:00\u001b[0m\n",
            "\u001b[?25hDownloading httpcore-1.0.5-py3-none-any.whl (77 kB)\n",
            "\u001b[2K   \u001b[90m━━━━━━━━━━━━━━━━━━━━━━━━━━━━━━━━━━━━━━━━\u001b[0m \u001b[32m77.9/77.9 kB\u001b[0m \u001b[31m6.2 MB/s\u001b[0m eta \u001b[36m0:00:00\u001b[0m\n",
            "\u001b[?25hDownloading h11-0.14.0-py3-none-any.whl (58 kB)\n",
            "\u001b[2K   \u001b[90m━━━━━━━━━━━━━━━━━━━━━━━━━━━━━━━━━━━━━━━━\u001b[0m \u001b[32m58.3/58.3 kB\u001b[0m \u001b[31m4.3 MB/s\u001b[0m eta \u001b[36m0:00:00\u001b[0m\n",
            "\u001b[?25hInstalling collected packages: h11, httpcore, httpx, openai\n",
            "Successfully installed h11-0.14.0 httpcore-1.0.5 httpx-0.27.0 openai-1.37.1\n"
          ]
        }
      ]
    },
    {
      "cell_type": "code",
      "execution_count": 1,
      "metadata": {
        "id": "y5LsS-zc5cBN"
      },
      "outputs": [],
      "source": [
        "import requests\n",
        "import pandas as pd\n",
        "from bs4 import BeautifulSoup\n",
        "import nltk\n",
        "from nltk.corpus import stopwords\n",
        "from nltk.tokenize import word_tokenize\n",
        "from nltk.stem import PorterStemmer\n",
        "from sklearn.feature_extraction.text import TfidfVectorizer"
      ]
    },
    {
      "cell_type": "code",
      "source": [
        "# Download NLTK data\n",
        "nltk.download('punkt')\n",
        "nltk.download('stopwords')"
      ],
      "metadata": {
        "colab": {
          "base_uri": "https://localhost:8080/"
        },
        "id": "GUj4cgmM5f_T",
        "outputId": "89a716cb-fe99-463d-cd13-2c0851a1dd84"
      },
      "execution_count": 2,
      "outputs": [
        {
          "output_type": "stream",
          "name": "stderr",
          "text": [
            "[nltk_data] Downloading package punkt to /root/nltk_data...\n",
            "[nltk_data]   Unzipping tokenizers/punkt.zip.\n",
            "[nltk_data] Downloading package stopwords to /root/nltk_data...\n",
            "[nltk_data]   Unzipping corpora/stopwords.zip.\n"
          ]
        },
        {
          "output_type": "execute_result",
          "data": {
            "text/plain": [
              "True"
            ]
          },
          "metadata": {},
          "execution_count": 2
        }
      ]
    },
    {
      "cell_type": "code",
      "source": [
        "topic = \"youtube\""
      ],
      "metadata": {
        "id": "Z-YOhVCp5oKk"
      },
      "execution_count": 110,
      "outputs": []
    },
    {
      "cell_type": "code",
      "source": [
        "def search_wikipedia(topic):\n",
        "    search_url = f\"https://en.wikipedia.org/w/api.php?action=query&list=search&srsearch={topic}&format=json\"\n",
        "    response = requests.get(search_url)\n",
        "    search_results = response.json()\n",
        "    return search_results['query']['search']\n",
        "\n",
        "def clean_snippet(snippet):\n",
        "    soup = BeautifulSoup(snippet, \"html.parser\")\n",
        "    text = soup.get_text()\n",
        "    return text\n",
        "\n",
        "def preprocess_text(text):\n",
        "    # Tokenize the text\n",
        "    tokens = word_tokenize(text)\n",
        "\n",
        "    # Convert to lowercase\n",
        "    tokens = [word.lower() for word in tokens]\n",
        "\n",
        "    # Remove stop words and non-alphabetic tokens\n",
        "    stop_words = set(stopwords.words('english'))\n",
        "    tokens = [word for word in tokens if word.isalpha() and word not in stop_words]\n",
        "\n",
        "    return ' '.join(tokens)\n",
        "\n",
        "search_results = search_wikipedia(topic)\n",
        "\n",
        "# Extract titles from the search results\n",
        "titles = [result['title'] for result in search_results]\n",
        "\n",
        "# Print related topics (titles)\n",
        "all_topics = []\n",
        "print(\"Related topics:\")\n",
        "for title in titles:\n",
        "  all_topics.append(title)\n",
        "\n",
        "print(all_topics)"
      ],
      "metadata": {
        "colab": {
          "base_uri": "https://localhost:8080/"
        },
        "id": "MCTEUmO65i2T",
        "outputId": "769cf43a-bd78-42a8-ef7e-dcd960545f3f"
      },
      "execution_count": 111,
      "outputs": [
        {
          "output_type": "stream",
          "name": "stdout",
          "text": [
            "Related topics:\n",
            "['YouTube', 'YouTube Music', 'YouTube Premium', 'YouTube Shorts', 'YouTube (YouTube channel)', 'Youtube-dl', 'List of most-viewed YouTube videos', 'History of YouTube', 'List of most-subscribed YouTube channels', 'YouTube poop']\n"
          ]
        }
      ]
    },
    {
      "cell_type": "code",
      "source": [],
      "metadata": {
        "id": "k5LIbdNY9J7Y"
      },
      "execution_count": 111,
      "outputs": []
    },
    {
      "cell_type": "code",
      "source": [
        "import requests\n",
        "\n",
        "def get_wikipedia_extract(title, length=\"short\"):\n",
        "    # Define the endpoint\n",
        "    endpoint = \"https://en.wikipedia.org/w/api.php\"\n",
        "\n",
        "    # Set the extract length parameters\n",
        "    if length == \"short\":\n",
        "        exchars = 500  # Limit to approximately one paragraph\n",
        "        params = {\n",
        "            \"action\": \"query\",\n",
        "            \"format\": \"json\",\n",
        "            \"titles\": title,\n",
        "            \"prop\": \"extracts\",\n",
        "            \"exchars\": exchars,\n",
        "            \"explaintext\": True\n",
        "        }\n",
        "    elif length == \"medium\":\n",
        "        exsentences = 5  # Limit to approximately two paragraphs\n",
        "        params = {\n",
        "            \"action\": \"query\",\n",
        "            \"format\": \"json\",\n",
        "            \"titles\": title,\n",
        "            \"prop\": \"extracts\",\n",
        "            \"exsentences\": exsentences,\n",
        "            \"explaintext\": True\n",
        "        }\n",
        "    else:\n",
        "        params = {\n",
        "            \"action\": \"query\",\n",
        "            \"format\": \"json\",\n",
        "            \"titles\": title,\n",
        "            \"prop\": \"extracts\",\n",
        "            \"exintro\": True,\n",
        "            \"explaintext\": True\n",
        "        }\n",
        "\n",
        "    # Make the request to the Wikipedia API\n",
        "    response = requests.get(endpoint, params=params)\n",
        "    data = response.json()\n",
        "\n",
        "    # Extract the page information\n",
        "    pages = data['query']['pages']\n",
        "    page = next(iter(pages.values()))  # Get the first (and only) page\n",
        "\n",
        "    # Extract the extract text\n",
        "    extract = page.get(\"extract\", \"No extract found.\")\n",
        "\n",
        "    return extract\n",
        "\n",
        "# Dictionary to store the extracts\n",
        "corpus = {}\n",
        "\n",
        "# Iterate through each title and get a paragraph (full extract) for each\n",
        "for title in titles:\n",
        "    extract = get_wikipedia_extract(title, length=\"full\")\n",
        "    print(f\"Title: {title}\\nExtract:\\n{extract}\\n\")\n",
        "    corpus[title] = extract\n",
        "\n",
        "# Now 'corpus' contains all the extracts with titles as keys\n",
        "print(\"Corpus dictionary:\", corpus)\n"
      ],
      "metadata": {
        "colab": {
          "base_uri": "https://localhost:8080/"
        },
        "collapsed": true,
        "id": "SqPjWSCo5pL1",
        "outputId": "1632c654-bda7-4c02-ac8d-49eee78c2279"
      },
      "execution_count": 112,
      "outputs": [
        {
          "output_type": "stream",
          "name": "stdout",
          "text": [
            "Title: YouTube\n",
            "Extract:\n",
            "YouTube is an American online video sharing platform owned by Google. Accessible worldwide, YouTube was launched on February 14, 2005, by Steve Chen, Chad Hurley, and Jawed Karim, three former employees of PayPal. Headquartered in San Bruno, California, United States, it is the second most visited website in the world, after Google Search. As of January 2024, YouTube has more than 2.7 billion monthly users, who collectively watch more than one billion hours of videos every day. As of May 2019, videos were being uploaded to the platform at a rate of more than 500 hours of content per minute, and as of 2021, there were approximately 14 billion videos in total.\n",
            "In October 2006, YouTube was purchased by Google for $1.65 billion (equivalent to $2.31 billion in 2023). Google expanded YouTube's business model of generating revenue from advertisements alone, to offering paid content such as movies and exclusive content produced by and for YouTube. It also offers YouTube Premium, a paid subscription option for watching content without ads. YouTube incorporated Google's AdSense program, generating more revenue for both YouTube and approved content creators. In 2022, YouTube's annual advertising revenue increased to $29.2 billion, more than $9 billion higher than in 2020.\n",
            "Since its purchase by Google, YouTube has expanded beyond the core website into mobile apps, network television, and the ability to link with other platforms. Video categories on YouTube include music videos, video clips, news, short and feature films, songs, documentaries, movie trailers, teasers and TV spots, live streams, vlogs, and more. Most content is generated by individuals, including collaborations between \"YouTubers\" and corporate sponsors. Established media, news, and entertainment corporations have also created and expanded their visibility to YouTube channels in order to reach greater audiences.\n",
            "YouTube has had unprecedented social impact, influencing popular culture, internet trends, and creating multimillionaire celebrities. Despite its growth and success, the platform is sometimes criticized for allegedly facilitating the spread of misinformation, the sharing of copyrighted content, routinely violating its users' privacy, enabling censorship, endangering child safety and wellbeing, and for its inconsistent or incorrect implementation of platform guidelines.\n",
            "\n",
            "Title: YouTube Music\n",
            "Extract:\n",
            "YouTube Music is a music streaming service developed by the American video platform YouTube, a subsidiary of Google. The service is designed with a user interface that allows users to explore songs and music videos on YouTube based on genres, playlists, and recommendations. In April 2023, the service expanded its offerings to include support for podcasts.\n",
            "YouTube Music also features a premium tier that provides several benefits to subscribers. These include ad-free playback, the ability to play audio in the background, and the option to download songs for offline listening. These benefits are also available to subscribers of YouTube Premium. On December 1, 2020, YouTube Music replaced Google Play Music as Google's primary brand for music streaming.\n",
            "\n",
            "Title: YouTube Premium\n",
            "Extract:\n",
            "YouTube Premium (formerly Music Key and YouTube Red) is a subscription service offered by the American video platform YouTube. The service provides ad-free access to content across the service, as well as access to premium YouTube Originals programming produced in collaboration with the site's creators, downloading videos and background playback of videos on mobile devices, and access to the music streaming service, YouTube Music. It has over 100 million subscribers.\n",
            "The service was originally launched on November 14, 2014, as Music Key, offering advertisement-free streaming of music videos from participating labels on YouTube and Google Play Music. The service was then revised and relaunched as YouTube Red on October 31, 2015, expanding its scope to offer advertisement-free access to all YouTube videos, as opposed to just music.\n",
            "YouTube announced the rebranding of the service as YouTube Premium on May 17, 2018, alongside the return of a separate, YouTube Music subscription service. Later in the year, it was reported that YouTube was planning to make some of the original content associated with the service available on an ad-supported basis.\n",
            "\n",
            "\n",
            "\n",
            "Title: YouTube Shorts\n",
            "Extract:\n",
            "YouTube Shorts is the short-form section of the American online video-sharing platform YouTube. Shorts focuses on vertical videos that are less than 60 seconds of duration and various features for user interaction. As of May 2024, Shorts have collectively earned over 5 trillion views since the platform was made available to the public on July 13, 2021, which include video views that pre-date the YouTube Shorts feature. Creators earn money based on the amount of views they receive, or through ad revenue. The increased popularity of YouTube Shorts has led to concerns about addiction for teenagers.\n",
            "\n",
            "Title: YouTube (YouTube channel)\n",
            "Extract:\n",
            "YouTube (formerly YouTube Spotlight) is the official YouTube channel for the American video-sharing platform YouTube, spotlighting videos and events on the platform. Events shown on the channel include YouTube Comedy Week and the YouTube Music Awards. Additionally, the channel uploaded annual installments of YouTube Rewind between 2010 and 2019. For a brief period in late 2013, this channel was ranked as the most-subscribed on the platform. As of March 2024, the channel has earned 39.8 million subscribers and 3.05 billion video views.\n",
            "\n",
            "Title: Youtube-dl\n",
            "Extract:\n",
            "youtube-dl is a free and open source software tool for downloading video and audio from YouTube and over 1,000 other video hosting websites. It is released under the Unlicense software license.\n",
            "As of September 2021, youtube-dl is one of the most starred projects on GitHub, with over 100,000 stars. According to libraries.io, 308 other packages and 1.43k repositories depend on it. Numerous forks exist of the project.\n",
            "\n",
            "youtube-dl was created in 2006 by Ricardo Garcia. Initially, only YouTube was supported, but as the project grew, it began supporting other video sharing websites.\n",
            "Ricardo Garcia stepped down as maintainer in 2011 and was replaced by Philipp Hagemeister, who later stepped down and was replaced by dstftw. In 2021, dstftw stepped down and was replaced by dirkf.\n",
            "In 2021, some community members released a fork of youtube-dl, named youtube-dlc (for \"community\"). By January 2021, the effort was continuing as yt-dlp. yt-dlp was included in Ubuntu as of the 22.04 release. youtube-dl was removed from Debian 12.0 and Ubuntu 23.10 due to stagnant development and replaced with an empty package depending on yt-dlp.\n",
            "In August 2023, German company Uberspace took down a web domain which they hosted at their premises for the original youtube-dl project, citing a regional German court order issued from Landgericht, Hamburg which appeared to ban the mere hosting of information and GitHub developer links related to the cracking of (non-cryptographic) \"rolling ciphers.\" The GitHub subdomain webpage remains in place.\n",
            "\n",
            "On October 23, 2020, the Recording Industry Association of America (RIAA) issued a takedown notice to GitHub under the Digital Millennium Copyright Act (DMCA), requesting the removal of youtube-dl and 17 public forks of the project. The RIAA request argued that youtube-dl violates the Section 1201 anti-circumvention provisions of the DMCA, and provisions of German copyright law, since it circumvents a \"rolling cipher\" used by YouTube to generate the URL for the video file itself (which the RIAA has considered to be an effective technical protection measure, since it is \"intended to inhibit direct access to the underlying YouTube video files, thereby preventing or inhibiting the downloading, copying, or distribution of the video files\"), and that its documentation expressly encouraged its use with copyrighted media by listing music videos by RIAA-represented artists as examples. GitHub initially complied with the request.\n",
            "Users criticized the takedown, noting the legitimate uses for the application, including downloading video content released under  open licensing schemes or to create derivative works falling under fair use (such as for archival and news reporting purposes). Public attention to the takedown resulted in a Streisand effect reminiscent to that of the DeCSS takedown. Users reposted the software's source code across the internet in multiple formats. For example, users posted images on Twitter containing the whole youtube-dl source code encoded in different colors on each pixel. GitHub users also filed pull requests to GitHub's own repository of DMCA takedown notices that included youtube-dl source code.\n",
            "On November 16, 2020, the repository was reinstated, after the Electronic Frontier Foundation sent GitHub a letter cautioning that its removal might set a precedent for other copyright holders to misuse the notice-and-takedown process to remove software tools from the Internet-based only on the argument that those tools could be used for copyright infringement. Furthermore, the EFF letter asserted that the software was not operating as a \"circumvention device\", breaching DRM on the video stream, as the stream itself was not encrypted. GitHub also announced that future takedown claims under Section 1201 would be manually scrutinized on a case-by-case basis by legal and technical experts.\n",
            "\n",
            "For downloading video or playlist:\n",
            "\n",
            "youtube-dl <url>\n",
            "\n",
            "Path of the output can be specified as: (file name to be included in the path)\n",
            "\n",
            "youtube-dl -o <path> <url>\n",
            "\n",
            "To see list of all available file formats and sizes:\n",
            "\n",
            "youtube-dl -F <url>\n",
            "\n",
            "The video can be downloaded by selecting the format code from the list or typing the format manually:\n",
            "\n",
            "youtube-dl -f <format/code> <url>\n",
            "\n",
            "Best quality video can be downloaded with -f best option. Also, the quality of audio and video streams can be specified separately and merged with the + operator.\n",
            "A portion of the video can be downloaded with the help of ffmpeg.\n",
            "\n",
            "Comparison of YouTube downloaders\n",
            "Stream ripping\n",
            "YouTube Vanced\n",
            "\n",
            "Official website \n",
            "youtube-dl at Open Hub\n",
            "\n",
            "Title: List of most-viewed YouTube videos\n",
            "Extract:\n",
            "YouTube is an American video-sharing website headquartered in San Bruno, California. The site indicates view counts of each uploaded video, making it possible to keep track of the most viewed, many of which continue to exist while others are no longer available on the site. Although the most-viewed were initially viral videos uploaded by amateur content creators, such as \"Evolution of Dance\" and \"Charlie Bit My Finger\", they have increasingly become music videos produced on behalf of professional recording artists. Since Lady Gaga's \"Bad Romance\" in 2009, every video that has reached the top of the \"most-viewed YouTube videos\" list has been a music video.\n",
            "In November 2005, a Nike advertisement featuring Brazilian football player Ronaldinho became the first video to reach 1,000,000 views. The billion-view mark was first passed by Gangnam Style in December 2012. On January 13, 2022, Pinkfong's \"Baby Shark\" became the first video to hit 10,000,000,000 views.\n",
            "Views represent how many times a video is watched. To ensure that traffic is coming from actual humans and not scripts or other deceptive methods, YouTube has a secret algorithm to separate legitimate views from illegitimate ones, and only legitimate views are included in the view count. Specifically, to count as a legitimate view, a user must intentionally initiate the playback of the video and play at least 30 seconds of the video (or the entire video for shorter videos). Additionally, while replays count as views, there is a limit of 4 or 5 views per IP address during a 24-hour period, after which point, no further views from that IP are counted until the 24-hour period expires.\n",
            "\n",
            "Title: History of YouTube\n",
            "Extract:\n",
            "YouTube is an American online video-sharing platform headquartered in San Bruno, California, founded by three former PayPal employees—Chad Hurley, Steve Chen, and Jawed Karim—in February 2005. Google bought the site in November 2006 for US$1.65 billion, since which it operates as one of Google's subsidiaries.\n",
            "YouTube allows users to upload videos, view them, rate them with likes and dislikes, share them, add videos to playlists, report, make comments on videos, and subscribe to other users. The slogan \"Broadcast Yourself\" used for several years and the reference to user profiles as \"Channels\" signifies the premise upon which the platform is based, of allowing anyone to operate a personal broadcasting station in resemblance to television with the extension of video on demand.\n",
            "As such, the platform offers a wide variety of user-generated and corporate media videos. Available content includes video clips, TV show clips, music videos, short and documentary films, audio recordings, movie trailers, live streams, and other content such as video blogging, short original videos, and educational videos.\n",
            "As of February 2017, there were more than 400 hours of content uploaded to YouTube each minute, and one billion hours of content being watched on YouTube every day. As of October 2020, YouTube is the second-most popular website in the world, behind Google, according to Alexa Internet. As of May 2019, more than 500 hours of video content are uploaded to YouTube every minute. Based on reported quarterly advertising revenue, YouTube is estimated to have US$15 billion in annual revenues.\n",
            "YouTube has faced criticism over aspects of its operations, including its handling of copyrighted content contained within uploaded videos, its recommendation algorithms perpetuating videos that promote conspiracy theories and falsehoods, hosting videos ostensibly targeting children but containing violent or sexually suggestive content involving popular characters, videos of minors attracting pedophilic activities in their comment sections, and fluctuating policies on the types of content that is eligible to be monetized with advertising.\n",
            "\n",
            "Title: List of most-subscribed YouTube channels\n",
            "Extract:\n",
            "A subscriber to a channel on the American video-sharing platform YouTube is a user who has chosen to receive the channel's content by clicking on that channel's \"Subscribe\" button, and each user's subscription feed consists of videos published by channels to which the user is subscribed. The ability for users to subscribe was introduced in October 2005. YouTube began publishing a list of its most-subscribed channels in April 2006. An early archive of the list dates to May 17, 2006.\n",
            "Since May 2006, when Smosh occupied the top position with just 2,986 subscribers, at least 11 other YouTube channels have held the top spot; these include the channel for the American fictional web series lonelygirl15, American comedian Brooke \"Brookers\" Brodack, American fictional character Fred Figglehorn, Swedish gamer Felix \"PewDiePie\" Kjellberg, American comedian Ryan Higa, American media personality Ray William Johnson, American public speaker Judson Laipply, English geriatric Peter Oakley, and the official channels for Indian music record label T-Series, as well as YouTube itself.\n",
            "The most-subscribed YouTube channel is MrBeast, having 306 million subscribers as of July 26, 2024, and gaining subscribers by an average of over 5 million per week.\n",
            "\n",
            "The following table lists the 50 most-subscribed YouTube channels, as well as the primary language and content category of each channel. The channels are ordered by number of subscribers. Those whose displayed subscriber counts are identical, are listed so that the channel whose current growth rate indicates that its displayed subscriber count will exceed that of the other channel is listed first. Automatically generated channels that lack their own videos, such as Music and News, and channels that have been made effectively obsolete as a result of the transferral of their content, such as JustinBieberVEVO and TaylorSwiftVEVO are excluded.\n",
            "As of June 2024, 21 of the 50 channels listed primarily produce content in English while 17 primarily produce content in Hindi. All 50 channels have surpassed 52 million subscribers. Ten of the channels have surpassed 100 million subscribers and only two have more than 200 million subscribers: MrBeast and T-Series. MrBeast is the only channel that has more than 300 million subscribers.\n",
            "\n",
            "The following table lists the 20 distinct runs as the most-subscribed YouTube channel recorded since May 2006. Only runs lasting at least 24 hours are included. 12 different channels have held the position, with PewDiePie holding the title a record four times. In second place is Smosh, which held it three times, while third place is tied between nigahiga, T-Series, and YouTube's own channel, which have all held it twice each.\n",
            "\n",
            "Timeline of the most-subscribed YouTube channels (May 2006 – present)\n",
            "\n",
            "Following the third time that Smosh became the most-subscribed YouTube channel, Ray William Johnson collaborated with the duo. A flurry of top YouTubers including Ryan Higa, Shane Dawson, Felix Kjellberg, Michael Buckley, Kassem Gharaibeh, the Fine Brothers, and Johnson himself, congratulated the duo shortly after they surpassed Johnson as the most-subscribed channel.\n",
            "\n",
            "In mid-2018, the subscriber count of the Indian music video channel T-Series rapidly approached that of Swedish web comedian and Let's Player PewDiePie, who was the most-subscribed user on YouTube at the time. As a result, fans of PewDiePie and T-Series, other YouTubers, and celebrities showed their support for both channels. During the competition, both channels gained a large number of subscribers at a rapid rate, and surpassed each other's subscriber count on multiple occasions in February, March, and April 2019. T-Series eventually permanently surpassed PewDiePie, and on May 29, 2019, it became the first channel to reach 100 million subscribers.\n",
            "In 2024, when MrBeast surpassed T-Series, he tweeted that his fans had \"avenged\" PewDiePie. In the lead-up to MrBeast's channel becoming the most-subscribed, T-Series issued a call for subscribers. Meanwhile, MrBeast urged his fans to not see the competition between his channel and T-Series as \"this country versus that country\", while also warning against anyone becoming hateful.\n",
            "\n",
            "Title: YouTube poop\n",
            "Extract:\n",
            "A YouTube poop (YTP) is a type of video mashup or edit created by remixing/editing pre-existing media sources, often carrying subcultural significance into a new video for humorous, vulgar, satirical, obscene, absurd, profane, annoying, confusing, or dramatic purposes. YouTube poops are traditionally uploaded to the video sharing website YouTube, hence the name.\n",
            "\n",
            "Corpus dictionary: {'YouTube': 'YouTube is an American online video sharing platform owned by Google. Accessible worldwide, YouTube was launched on February 14, 2005, by Steve Chen, Chad Hurley, and Jawed Karim, three former employees of PayPal. Headquartered in San Bruno, California, United States, it is the second most visited website in the world, after Google Search. As of January 2024, YouTube has more than 2.7 billion monthly users, who collectively watch more than one billion hours of videos every day. As of May 2019, videos were being uploaded to the platform at a rate of more than 500 hours of content per minute, and as of 2021, there were approximately 14 billion videos in total.\\nIn October 2006, YouTube was purchased by Google for $1.65 billion (equivalent to $2.31 billion in 2023). Google expanded YouTube\\'s business model of generating revenue from advertisements alone, to offering paid content such as movies and exclusive content produced by and for YouTube. It also offers YouTube Premium, a paid subscription option for watching content without ads. YouTube incorporated Google\\'s AdSense program, generating more revenue for both YouTube and approved content creators. In 2022, YouTube\\'s annual advertising revenue increased to $29.2 billion, more than $9 billion higher than in 2020.\\nSince its purchase by Google, YouTube has expanded beyond the core website into mobile apps, network television, and the ability to link with other platforms. Video categories on YouTube include music videos, video clips, news, short and feature films, songs, documentaries, movie trailers, teasers and TV spots, live streams, vlogs, and more. Most content is generated by individuals, including collaborations between \"YouTubers\" and corporate sponsors. Established media, news, and entertainment corporations have also created and expanded their visibility to YouTube channels in order to reach greater audiences.\\nYouTube has had unprecedented social impact, influencing popular culture, internet trends, and creating multimillionaire celebrities. Despite its growth and success, the platform is sometimes criticized for allegedly facilitating the spread of misinformation, the sharing of copyrighted content, routinely violating its users\\' privacy, enabling censorship, endangering child safety and wellbeing, and for its inconsistent or incorrect implementation of platform guidelines.', 'YouTube Music': \"YouTube Music is a music streaming service developed by the American video platform YouTube, a subsidiary of Google. The service is designed with a user interface that allows users to explore songs and music videos on YouTube based on genres, playlists, and recommendations. In April 2023, the service expanded its offerings to include support for podcasts.\\nYouTube Music also features a premium tier that provides several benefits to subscribers. These include ad-free playback, the ability to play audio in the background, and the option to download songs for offline listening. These benefits are also available to subscribers of YouTube Premium. On December 1, 2020, YouTube Music replaced Google Play Music as Google's primary brand for music streaming.\", 'YouTube Premium': \"YouTube Premium (formerly Music Key and YouTube Red) is a subscription service offered by the American video platform YouTube. The service provides ad-free access to content across the service, as well as access to premium YouTube Originals programming produced in collaboration with the site's creators, downloading videos and background playback of videos on mobile devices, and access to the music streaming service, YouTube Music. It has over 100 million subscribers.\\nThe service was originally launched on November 14, 2014, as Music Key, offering advertisement-free streaming of music videos from participating labels on YouTube and Google Play Music. The service was then revised and relaunched as YouTube Red on October 31, 2015, expanding its scope to offer advertisement-free access to all YouTube videos, as opposed to just music.\\nYouTube announced the rebranding of the service as YouTube Premium on May 17, 2018, alongside the return of a separate, YouTube Music subscription service. Later in the year, it was reported that YouTube was planning to make some of the original content associated with the service available on an ad-supported basis.\\n\\n\", 'YouTube Shorts': 'YouTube Shorts is the short-form section of the American online video-sharing platform YouTube. Shorts focuses on vertical videos that are less than 60 seconds of duration and various features for user interaction. As of May 2024, Shorts have collectively earned over 5 trillion views since the platform was made available to the public on July 13, 2021, which include video views that pre-date the YouTube Shorts feature. Creators earn money based on the amount of views they receive, or through ad revenue. The increased popularity of YouTube Shorts has led to concerns about addiction for teenagers.', 'YouTube (YouTube channel)': 'YouTube (formerly YouTube Spotlight) is the official YouTube channel for the American video-sharing platform YouTube, spotlighting videos and events on the platform. Events shown on the channel include YouTube Comedy Week and the YouTube Music Awards. Additionally, the channel uploaded annual installments of YouTube Rewind between 2010 and 2019. For a brief period in late 2013, this channel was ranked as the most-subscribed on the platform. As of March 2024, the channel has earned 39.8 million subscribers and 3.05 billion video views.', 'Youtube-dl': 'youtube-dl is a free and open source software tool for downloading video and audio from YouTube and over 1,000 other video hosting websites. It is released under the Unlicense software license.\\nAs of September 2021, youtube-dl is one of the most starred projects on GitHub, with over 100,000 stars. According to libraries.io, 308 other packages and 1.43k repositories depend on it. Numerous forks exist of the project.\\n\\nyoutube-dl was created in 2006 by Ricardo Garcia. Initially, only YouTube was supported, but as the project grew, it began supporting other video sharing websites.\\nRicardo Garcia stepped down as maintainer in 2011 and was replaced by Philipp Hagemeister, who later stepped down and was replaced by dstftw. In 2021, dstftw stepped down and was replaced by dirkf.\\nIn 2021, some community members released a fork of youtube-dl, named youtube-dlc (for \"community\"). By January 2021, the effort was continuing as yt-dlp. yt-dlp was included in Ubuntu as of the 22.04 release. youtube-dl was removed from Debian 12.0 and Ubuntu 23.10 due to stagnant development and replaced with an empty package depending on yt-dlp.\\nIn August 2023, German company Uberspace took down a web domain which they hosted at their premises for the original youtube-dl project, citing a regional German court order issued from Landgericht, Hamburg which appeared to ban the mere hosting of information and GitHub developer links related to the cracking of (non-cryptographic) \"rolling ciphers.\" The GitHub subdomain webpage remains in place.\\n\\nOn October 23, 2020, the Recording Industry Association of America (RIAA) issued a takedown notice to GitHub under the Digital Millennium Copyright Act (DMCA), requesting the removal of youtube-dl and 17 public forks of the project. The RIAA request argued that youtube-dl violates the Section 1201 anti-circumvention provisions of the DMCA, and provisions of German copyright law, since it circumvents a \"rolling cipher\" used by YouTube to generate the URL for the video file itself (which the RIAA has considered to be an effective technical protection measure, since it is \"intended to inhibit direct access to the underlying YouTube video files, thereby preventing or inhibiting the downloading, copying, or distribution of the video files\"), and that its documentation expressly encouraged its use with copyrighted media by listing music videos by RIAA-represented artists as examples. GitHub initially complied with the request.\\nUsers criticized the takedown, noting the legitimate uses for the application, including downloading video content released under  open licensing schemes or to create derivative works falling under fair use (such as for archival and news reporting purposes). Public attention to the takedown resulted in a Streisand effect reminiscent to that of the DeCSS takedown. Users reposted the software\\'s source code across the internet in multiple formats. For example, users posted images on Twitter containing the whole youtube-dl source code encoded in different colors on each pixel. GitHub users also filed pull requests to GitHub\\'s own repository of DMCA takedown notices that included youtube-dl source code.\\nOn November 16, 2020, the repository was reinstated, after the Electronic Frontier Foundation sent GitHub a letter cautioning that its removal might set a precedent for other copyright holders to misuse the notice-and-takedown process to remove software tools from the Internet-based only on the argument that those tools could be used for copyright infringement. Furthermore, the EFF letter asserted that the software was not operating as a \"circumvention device\", breaching DRM on the video stream, as the stream itself was not encrypted. GitHub also announced that future takedown claims under Section 1201 would be manually scrutinized on a case-by-case basis by legal and technical experts.\\n\\nFor downloading video or playlist:\\n\\nyoutube-dl <url>\\n\\nPath of the output can be specified as: (file name to be included in the path)\\n\\nyoutube-dl -o <path> <url>\\n\\nTo see list of all available file formats and sizes:\\n\\nyoutube-dl -F <url>\\n\\nThe video can be downloaded by selecting the format code from the list or typing the format manually:\\n\\nyoutube-dl -f <format/code> <url>\\n\\nBest quality video can be downloaded with -f best option. Also, the quality of audio and video streams can be specified separately and merged with the + operator.\\nA portion of the video can be downloaded with the help of ffmpeg.\\n\\nComparison of YouTube downloaders\\nStream ripping\\nYouTube Vanced\\n\\nOfficial website \\nyoutube-dl at Open Hub', 'List of most-viewed YouTube videos': 'YouTube is an American video-sharing website headquartered in San Bruno, California. The site indicates view counts of each uploaded video, making it possible to keep track of the most viewed, many of which continue to exist while others are no longer available on the site. Although the most-viewed were initially viral videos uploaded by amateur content creators, such as \"Evolution of Dance\" and \"Charlie Bit My Finger\", they have increasingly become music videos produced on behalf of professional recording artists. Since Lady Gaga\\'s \"Bad Romance\" in 2009, every video that has reached the top of the \"most-viewed YouTube videos\" list has been a music video.\\nIn November 2005, a Nike advertisement featuring Brazilian football player Ronaldinho became the first video to reach 1,000,000 views. The billion-view mark was first passed by Gangnam Style in December 2012. On January 13, 2022, Pinkfong\\'s \"Baby Shark\" became the first video to hit 10,000,000,000 views.\\nViews represent how many times a video is watched. To ensure that traffic is coming from actual humans and not scripts or other deceptive methods, YouTube has a secret algorithm to separate legitimate views from illegitimate ones, and only legitimate views are included in the view count. Specifically, to count as a legitimate view, a user must intentionally initiate the playback of the video and play at least 30 seconds of the video (or the entire video for shorter videos). Additionally, while replays count as views, there is a limit of 4 or 5 views per IP address during a 24-hour period, after which point, no further views from that IP are counted until the 24-hour period expires.', 'History of YouTube': 'YouTube is an American online video-sharing platform headquartered in San Bruno, California, founded by three former PayPal employees—Chad Hurley, Steve Chen, and Jawed Karim—in February 2005. Google bought the site in November 2006 for US$1.65 billion, since which it operates as one of Google\\'s subsidiaries.\\nYouTube allows users to upload videos, view them, rate them with likes and dislikes, share them, add videos to playlists, report, make comments on videos, and subscribe to other users. The slogan \"Broadcast Yourself\" used for several years and the reference to user profiles as \"Channels\" signifies the premise upon which the platform is based, of allowing anyone to operate a personal broadcasting station in resemblance to television with the extension of video on demand.\\nAs such, the platform offers a wide variety of user-generated and corporate media videos. Available content includes video clips, TV show clips, music videos, short and documentary films, audio recordings, movie trailers, live streams, and other content such as video blogging, short original videos, and educational videos.\\nAs of February 2017, there were more than 400 hours of content uploaded to YouTube each minute, and one billion hours of content being watched on YouTube every day. As of October 2020, YouTube is the second-most popular website in the world, behind Google, according to Alexa Internet. As of May 2019, more than 500 hours of video content are uploaded to YouTube every minute. Based on reported quarterly advertising revenue, YouTube is estimated to have US$15 billion in annual revenues.\\nYouTube has faced criticism over aspects of its operations, including its handling of copyrighted content contained within uploaded videos, its recommendation algorithms perpetuating videos that promote conspiracy theories and falsehoods, hosting videos ostensibly targeting children but containing violent or sexually suggestive content involving popular characters, videos of minors attracting pedophilic activities in their comment sections, and fluctuating policies on the types of content that is eligible to be monetized with advertising.', 'List of most-subscribed YouTube channels': 'A subscriber to a channel on the American video-sharing platform YouTube is a user who has chosen to receive the channel\\'s content by clicking on that channel\\'s \"Subscribe\" button, and each user\\'s subscription feed consists of videos published by channels to which the user is subscribed. The ability for users to subscribe was introduced in October 2005. YouTube began publishing a list of its most-subscribed channels in April 2006. An early archive of the list dates to May 17, 2006.\\nSince May 2006, when Smosh occupied the top position with just 2,986 subscribers, at least 11 other YouTube channels have held the top spot; these include the channel for the American fictional web series lonelygirl15, American comedian Brooke \"Brookers\" Brodack, American fictional character Fred Figglehorn, Swedish gamer Felix \"PewDiePie\" Kjellberg, American comedian Ryan Higa, American media personality Ray William Johnson, American public speaker Judson Laipply, English geriatric Peter Oakley, and the official channels for Indian music record label T-Series, as well as YouTube itself.\\nThe most-subscribed YouTube channel is MrBeast, having 306 million subscribers as of July 26, 2024, and gaining subscribers by an average of over 5 million per week.\\n\\nThe following table lists the 50 most-subscribed YouTube channels, as well as the primary language and content category of each channel. The channels are ordered by number of subscribers. Those whose displayed subscriber counts are identical, are listed so that the channel whose current growth rate indicates that its displayed subscriber count will exceed that of the other channel is listed first. Automatically generated channels that lack their own videos, such as Music and News, and channels that have been made effectively obsolete as a result of the transferral of their content, such as JustinBieberVEVO and TaylorSwiftVEVO are excluded.\\nAs of June 2024, 21 of the 50 channels listed primarily produce content in English while 17 primarily produce content in Hindi. All 50 channels have surpassed 52 million subscribers. Ten of the channels have surpassed 100 million subscribers and only two have more than 200 million subscribers: MrBeast and T-Series. MrBeast is the only channel that has more than 300 million subscribers.\\n\\nThe following table lists the 20 distinct runs as the most-subscribed YouTube channel recorded since May 2006. Only runs lasting at least 24 hours are included. 12 different channels have held the position, with PewDiePie holding the title a record four times. In second place is Smosh, which held it three times, while third place is tied between nigahiga, T-Series, and YouTube\\'s own channel, which have all held it twice each.\\n\\nTimeline of the most-subscribed YouTube channels (May 2006 – present)\\n\\nFollowing the third time that Smosh became the most-subscribed YouTube channel, Ray William Johnson collaborated with the duo. A flurry of top YouTubers including Ryan Higa, Shane Dawson, Felix Kjellberg, Michael Buckley, Kassem Gharaibeh, the Fine Brothers, and Johnson himself, congratulated the duo shortly after they surpassed Johnson as the most-subscribed channel.\\n\\nIn mid-2018, the subscriber count of the Indian music video channel T-Series rapidly approached that of Swedish web comedian and Let\\'s Player PewDiePie, who was the most-subscribed user on YouTube at the time. As a result, fans of PewDiePie and T-Series, other YouTubers, and celebrities showed their support for both channels. During the competition, both channels gained a large number of subscribers at a rapid rate, and surpassed each other\\'s subscriber count on multiple occasions in February, March, and April 2019. T-Series eventually permanently surpassed PewDiePie, and on May 29, 2019, it became the first channel to reach 100 million subscribers.\\nIn 2024, when MrBeast surpassed T-Series, he tweeted that his fans had \"avenged\" PewDiePie. In the lead-up to MrBeast\\'s channel becoming the most-subscribed, T-Series issued a call for subscribers. Meanwhile, MrBeast urged his fans to not see the competition between his channel and T-Series as \"this country versus that country\", while also warning against anyone becoming hateful.', 'YouTube poop': 'A YouTube poop (YTP) is a type of video mashup or edit created by remixing/editing pre-existing media sources, often carrying subcultural significance into a new video for humorous, vulgar, satirical, obscene, absurd, profane, annoying, confusing, or dramatic purposes. YouTube poops are traditionally uploaded to the video sharing website YouTube, hence the name.'}\n"
          ]
        }
      ]
    },
    {
      "cell_type": "code",
      "source": [
        "from openai import OpenAI\n",
        "\n",
        "client = OpenAI(\n",
        "    api_key=''\n",
        ")"
      ],
      "metadata": {
        "id": "4Mmqr4Gg6mfx"
      },
      "execution_count": 113,
      "outputs": []
    },
    {
      "cell_type": "code",
      "source": [
        "completion = client.chat.completions.create(\n",
        "    model='gpt-3.5-turbo',\n",
        "    response_format={ \"type\": \"json_object\" },\n",
        "    messages=[\n",
        "        {'role':'system','content':'you are a good teacher who sets a good exam papers'},\n",
        "        {'role': 'user','content':f'create 20 multiple choice questions of this given {extract} with complexity, and mention all answers the with the questions in json format. Please do not explain the ansnwer, just return whatever is written in the options and the exact answer not more not less.'}\n",
        "        ]\n",
        ")"
      ],
      "metadata": {
        "id": "ZQe6XWvj-LLD"
      },
      "execution_count": 114,
      "outputs": []
    },
    {
      "cell_type": "code",
      "source": [
        "qa_data = completion.choices[0].message.content"
      ],
      "metadata": {
        "id": "K0WTWJOM-Uj5"
      },
      "execution_count": 123,
      "outputs": []
    },
    {
      "cell_type": "code",
      "source": [
        "\n",
        "# Load JSON data into a Python dictionary\n",
        "data = json.loads(qa_data)\n",
        "\n",
        "# Create a dictionary with the desired format\n",
        "cleaned_data = [\n",
        "    {\n",
        "        \"question\": item['question'],\n",
        "        \"choices\": item['options'],\n",
        "        \"correct_answer\": item['answer']\n",
        "    }\n",
        "    for item in data['questions']\n",
        "]\n"
      ],
      "metadata": {
        "id": "3sO9FIZdC6Jo"
      },
      "execution_count": 125,
      "outputs": []
    },
    {
      "cell_type": "code",
      "source": [
        "for i in range(len(cleaned_data)):\n",
        "    print(\"Question\", i + 1)\n",
        "    print(cleaned_data[i]['question'])\n",
        "\n",
        "    # Print each choice with its label\n",
        "    choices_dict = cleaned_data[i]['choices']\n",
        "    for label, choice in choices_dict.items():\n",
        "        print(f\"{label} : {choice}\")\n",
        "\n",
        "    # Find the correct answer label\n",
        "    correct_answer = cleaned_data[i]['correct_answer']\n",
        "    print(\"Correct Answer:\",correct_answer,\"\\n\")\n"
      ],
      "metadata": {
        "colab": {
          "base_uri": "https://localhost:8080/"
        },
        "id": "CoxCVQCnSaj-",
        "outputId": "64ec8c3f-aa00-4e77-d16a-edf659958f9a"
      },
      "execution_count": 149,
      "outputs": [
        {
          "output_type": "stream",
          "name": "stdout",
          "text": [
            "Question 1\n",
            "What is a YouTube poop?\n",
            "A : A type of video mashup\n",
            "B : A type of sandwich\n",
            "C : A type of dance\n",
            "D : A type of painting\n",
            "Correct Answer: A \n",
            "\n",
            "Question 2\n",
            "Where are YouTube poops traditionally uploaded?\n",
            "A : Facebook\n",
            "B : Instagram\n",
            "C : YouTube\n",
            "D : Twitter\n",
            "Correct Answer: C \n",
            "\n",
            "Question 3\n",
            "What is the main purpose of creating YouTube poops?\n",
            "A : Educational\n",
            "B : Informative\n",
            "C : Humorous\n",
            "D : Sad\n",
            "Correct Answer: C \n",
            "\n",
            "Question 4\n",
            "Which of the following is NOT a characteristic of YouTube poops?\n",
            "A : Vulgar\n",
            "B : Educational\n",
            "C : Profane\n",
            "D : Satirical\n",
            "Correct Answer: B \n",
            "\n",
            "Question 5\n",
            "What kind of sources are typically used to create YouTube poops?\n",
            "A : Newly created media\n",
            "B : Pre-existing media\n",
            "C : Live performances\n",
            "D : Video games\n",
            "Correct Answer: B \n",
            "\n",
            "Question 6\n",
            "Which of the following is a common theme in YouTube poops?\n",
            "A : Seriousness\n",
            "B : Compassion\n",
            "C : Absurdity\n",
            "D : Peace\n",
            "Correct Answer: C \n",
            "\n",
            "Question 7\n",
            "What website is often used for sharing YouTube poops?\n",
            "A : Vimeo\n",
            "B : YouTube\n",
            "C : Netflix\n",
            "D : Hulu\n",
            "Correct Answer: B \n",
            "\n",
            "Question 8\n",
            "Which of the following genres can YouTube poops fall under?\n",
            "A : Documentary\n",
            "B : Fantasy\n",
            "C : Satire\n",
            "D : Romance\n",
            "Correct Answer: C \n",
            "\n",
            "Question 9\n",
            "What is the tone or mood typically associated with YouTube poops?\n",
            "A : Serious\n",
            "B : Lighthearted\n",
            "C : Melancholic\n",
            "D : Boring\n",
            "Correct Answer: B \n",
            "\n",
            "Question 10\n",
            "Which word best describes the content of YouTube poops?\n",
            "A : Predictable\n",
            "B : Random\n",
            "C : Conventional\n",
            "D : Traditional\n",
            "Correct Answer: B \n",
            "\n",
            "Question 11\n",
            "What type of humor is often found in YouTube poops?\n",
            "A : Dry\n",
            "B : Slapstick\n",
            "C : Dark\n",
            "D : Romantic\n",
            "Correct Answer: C \n",
            "\n",
            "Question 12\n",
            "What emotion do YouTube poops typically aim to evoke from viewers?\n",
            "A : Happiness\n",
            "B : Sadness\n",
            "C : Confusion\n",
            "D : Anger\n",
            "Correct Answer: C \n",
            "\n",
            "Question 13\n",
            "What type of content do YouTube poops often remix or edit?\n",
            "A : Books\n",
            "B : Video games\n",
            "C : Music\n",
            "D : Movies/TV shows\n",
            "Correct Answer: D \n",
            "\n",
            "Question 14\n",
            "Which adjective best describes the style of YouTube poops?\n",
            "A : Traditional\n",
            "B : Experimental\n",
            "C : Predictable\n",
            "D : Simple\n",
            "Correct Answer: B \n",
            "\n",
            "Question 15\n",
            "In what way do YouTube poops use existing media sources?\n",
            "A : Recreate them\n",
            "B : Transform them\n",
            "C : Delete them\n",
            "D : Ignore them\n",
            "Correct Answer: B \n",
            "\n",
            "Question 16\n",
            "What is the main reason behind the creation of YouTube poops?\n",
            "A : Spread positivity\n",
            "B : Express creativity\n",
            "C : Educate the audience\n",
            "D : Promote violence\n",
            "Correct Answer: B \n",
            "\n",
            "Question 17\n",
            "Which of the following terms describes the overall vibe of YouTube poops?\n",
            "A : Focused\n",
            "B : Chaotic\n",
            "C : Calm\n",
            "D : Structured\n",
            "Correct Answer: B \n",
            "\n",
            "Question 18\n",
            "What type of significance do YouTube poops often carry?\n",
            "A : Cultural\n",
            "B : Historical\n",
            "C : Mythical\n",
            "D : Medical\n",
            "Correct Answer: A \n",
            "\n",
            "Question 19\n",
            "What is a common reaction to watching YouTube poops?\n",
            "A : Elation\n",
            "B : Boredom\n",
            "C : Laughter\n",
            "D : Irritation\n",
            "Correct Answer: C \n",
            "\n",
            "Question 20\n",
            "What type of videos are typically remixed to create YouTube poops?\n",
            "A : Cooking tutorials\n",
            "B : Music videos\n",
            "C : Movie trailers\n",
            "D : News broadcasts\n",
            "Correct Answer: D \n",
            "\n"
          ]
        }
      ]
    },
    {
      "cell_type": "code",
      "source": [],
      "metadata": {
        "id": "em6Sp-V_EVoN"
      },
      "execution_count": 149,
      "outputs": []
    },
    {
      "cell_type": "code",
      "source": [],
      "metadata": {
        "id": "8tkFRNSn_psU"
      },
      "execution_count": 149,
      "outputs": []
    },
    {
      "cell_type": "code",
      "source": [],
      "metadata": {
        "id": "7vxF0dDnEezK"
      },
      "execution_count": null,
      "outputs": []
    }
  ]
}